{
 "cells": [
  {
   "cell_type": "code",
   "execution_count": null,
   "id": "884ce2d2",
   "metadata": {},
   "outputs": [],
   "source": [
    "#1. What does an empty dictionary's code look like?\n",
    "\n",
    "    {}\n",
    "    \n",
    "    An empty dictionary's code look like above"
   ]
  },
  {
   "cell_type": "code",
   "execution_count": null,
   "id": "9d124f17",
   "metadata": {},
   "outputs": [],
   "source": [
    "#2. What is the value of a dictionary value with the key 'foo' and the value 42?\n",
    "\n",
    "    {'foo':42}\n",
    "    The items stored in a dictionary are unordered, while the items in a list are ordered."
   ]
  },
  {
   "cell_type": "code",
   "execution_count": null,
   "id": "2761b74a",
   "metadata": {},
   "outputs": [],
   "source": [
    "#3. What is the most significant distinction between a dictionary and a list?\n",
    "\n",
    "    The main difference  between lists and dictionary is list is an ordered colletction of objects, whereas dictioary\n",
    "    is unordered collection . However , the main difference is that items in dictionary is accessed via keys  and \n",
    "    not via their position.\n"
   ]
  },
  {
   "cell_type": "code",
   "execution_count": null,
   "id": "33526541",
   "metadata": {},
   "outputs": [],
   "source": [
    "#4. What happens if you try to access spam['foo'] if spam is {'bar': 100}?\n",
    "\n",
    "    The in operator checks whether a value exists as a key in the dictionary.Here there is no key 'foo'.so it It\n",
    "    produces a keyerror."
   ]
  },
  {
   "cell_type": "code",
   "execution_count": null,
   "id": "e38cd95e",
   "metadata": {},
   "outputs": [],
   "source": [
    "5. If a dictionary is stored in spam, what is the difference between the expressions 'cat' in spam and\n",
    "'cat' in spam.keys()?\n",
    "\n",
    "    There is no difference . The in operator checks wheather a value exists as a key in the dictionary.\n",
    "    While 'cat'in spam.keys() also check a key named as cat is in the keys of spam. .keys of method is used to get all\n",
    "    keys."
   ]
  },
  {
   "cell_type": "code",
   "execution_count": null,
   "id": "51e77fc8",
   "metadata": {},
   "outputs": [],
   "source": [
    "#6. If a dictionary is stored in spam, what is the difference between the expressions 'cat' in spam and\n",
    "'cat' in spam.values()?\n",
    "\n",
    "    cat' in spam checks whether there is a 'cat' key in the dictionary, while 'cat' in spam.values() checks whether\n",
    "    there is a value 'cat' for one of the keys in spam."
   ]
  },
  {
   "cell_type": "code",
   "execution_count": null,
   "id": "5049d99a",
   "metadata": {},
   "outputs": [],
   "source": [
    "#7. What is a shortcut for the following code?\n",
    "if 'color' not in spam:\n",
    "spam['color'] = 'black'\n",
    "\n",
    "\n",
    "    answer\n",
    "    \n",
    "    spam.setdefault('color', 'black')"
   ]
  },
  {
   "cell_type": "code",
   "execution_count": null,
   "id": "4f62da9d",
   "metadata": {},
   "outputs": [],
   "source": [
    "#8. How do you \"pretty print\" dictionary values using which module and function?\n",
    "\n",
    "    pprint.pprint()"
   ]
  }
 ],
 "metadata": {
  "kernelspec": {
   "display_name": "Python 3 (ipykernel)",
   "language": "python",
   "name": "python3"
  },
  "language_info": {
   "codemirror_mode": {
    "name": "ipython",
    "version": 3
   },
   "file_extension": ".py",
   "mimetype": "text/x-python",
   "name": "python",
   "nbconvert_exporter": "python",
   "pygments_lexer": "ipython3",
   "version": "3.9.7"
  }
 },
 "nbformat": 4,
 "nbformat_minor": 5
}
